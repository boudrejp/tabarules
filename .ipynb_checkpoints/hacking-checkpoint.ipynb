{
 "cells": [
  {
   "cell_type": "markdown",
   "metadata": {},
   "source": [
    "# tabarules\n",
    "\n",
    "Meant to take tabular data and turn it into a format usable for `mlxtend` association rules mining."
   ]
  },
  {
   "cell_type": "code",
   "execution_count": 1,
   "metadata": {},
   "outputs": [],
   "source": [
    "#!pip install mlxtend"
   ]
  },
  {
   "cell_type": "markdown",
   "metadata": {},
   "source": [
    "### functions to write\n",
    "* float_processor\n",
    "* boolean_processor (needs to be robust to categorial)\n",
    "* int_processor\n",
    "* category_processor\n",
    "* determine_dtype (takes series and identifies relevant fxn)\n",
    "* featurize_df\n",
    "\n",
    "__other associated todos__\n",
    "* write tests to ensure that the data coming in is actually of the right type, throw error messages"
   ]
  },
  {
   "cell_type": "code",
   "execution_count": 1,
   "metadata": {},
   "outputs": [],
   "source": [
    "# imports\n",
    "import os\n",
    "import numpy as np\n",
    "import pandas as pd\n",
    "import mlxtend\n",
    "from math import ceil"
   ]
  },
  {
   "cell_type": "code",
   "execution_count": 40,
   "metadata": {},
   "outputs": [
    {
     "data": {
      "text/plain": [
       "(array([0, 2], dtype=int64),)"
      ]
     },
     "execution_count": 40,
     "metadata": {},
     "output_type": "execute_result"
    }
   ],
   "source": [
    "# this is the nan functionality\n",
    "\n",
    "sample = pd.Series([np.nan, 0, np.nan, 7])\n",
    "np.where(np.isnan(sample))"
   ]
  },
  {
   "cell_type": "code",
   "execution_count": 2,
   "metadata": {},
   "outputs": [
    {
     "data": {
      "text/html": [
       "<div>\n",
       "<style scoped>\n",
       "    .dataframe tbody tr th:only-of-type {\n",
       "        vertical-align: middle;\n",
       "    }\n",
       "\n",
       "    .dataframe tbody tr th {\n",
       "        vertical-align: top;\n",
       "    }\n",
       "\n",
       "    .dataframe thead th {\n",
       "        text-align: right;\n",
       "    }\n",
       "</style>\n",
       "<table border=\"1\" class=\"dataframe\">\n",
       "  <thead>\n",
       "    <tr style=\"text-align: right;\">\n",
       "      <th></th>\n",
       "      <th>fixed acidity</th>\n",
       "      <th>volatile acidity</th>\n",
       "      <th>citric acid</th>\n",
       "      <th>residual sugar</th>\n",
       "      <th>chlorides</th>\n",
       "      <th>free sulfur dioxide</th>\n",
       "      <th>total sulfur dioxide</th>\n",
       "      <th>density</th>\n",
       "      <th>pH</th>\n",
       "      <th>sulphates</th>\n",
       "      <th>alcohol</th>\n",
       "      <th>quality</th>\n",
       "      <th>high_alc</th>\n",
       "      <th>acid_level</th>\n",
       "      <th>quality_2</th>\n",
       "    </tr>\n",
       "  </thead>\n",
       "  <tbody>\n",
       "    <tr>\n",
       "      <th>0</th>\n",
       "      <td>7.4</td>\n",
       "      <td>0.70</td>\n",
       "      <td>0.00</td>\n",
       "      <td>1.9</td>\n",
       "      <td>0.076</td>\n",
       "      <td>11.0</td>\n",
       "      <td>34.0</td>\n",
       "      <td>0.9978</td>\n",
       "      <td>3.51</td>\n",
       "      <td>0.56</td>\n",
       "      <td>9.4</td>\n",
       "      <td>5</td>\n",
       "      <td>0</td>\n",
       "      <td>low</td>\n",
       "      <td>bad</td>\n",
       "    </tr>\n",
       "    <tr>\n",
       "      <th>1</th>\n",
       "      <td>7.8</td>\n",
       "      <td>0.88</td>\n",
       "      <td>0.00</td>\n",
       "      <td>2.6</td>\n",
       "      <td>0.098</td>\n",
       "      <td>25.0</td>\n",
       "      <td>67.0</td>\n",
       "      <td>0.9968</td>\n",
       "      <td>3.20</td>\n",
       "      <td>0.68</td>\n",
       "      <td>9.8</td>\n",
       "      <td>5</td>\n",
       "      <td>0</td>\n",
       "      <td>med</td>\n",
       "      <td>bad</td>\n",
       "    </tr>\n",
       "    <tr>\n",
       "      <th>2</th>\n",
       "      <td>7.8</td>\n",
       "      <td>0.76</td>\n",
       "      <td>0.04</td>\n",
       "      <td>2.3</td>\n",
       "      <td>0.092</td>\n",
       "      <td>15.0</td>\n",
       "      <td>54.0</td>\n",
       "      <td>0.9970</td>\n",
       "      <td>3.26</td>\n",
       "      <td>0.65</td>\n",
       "      <td>9.8</td>\n",
       "      <td>5</td>\n",
       "      <td>0</td>\n",
       "      <td>med</td>\n",
       "      <td>bad</td>\n",
       "    </tr>\n",
       "    <tr>\n",
       "      <th>3</th>\n",
       "      <td>11.2</td>\n",
       "      <td>0.28</td>\n",
       "      <td>0.56</td>\n",
       "      <td>1.9</td>\n",
       "      <td>0.075</td>\n",
       "      <td>17.0</td>\n",
       "      <td>60.0</td>\n",
       "      <td>0.9980</td>\n",
       "      <td>3.16</td>\n",
       "      <td>0.58</td>\n",
       "      <td>9.8</td>\n",
       "      <td>6</td>\n",
       "      <td>0</td>\n",
       "      <td>med</td>\n",
       "      <td>bad</td>\n",
       "    </tr>\n",
       "    <tr>\n",
       "      <th>4</th>\n",
       "      <td>7.4</td>\n",
       "      <td>0.70</td>\n",
       "      <td>0.00</td>\n",
       "      <td>1.9</td>\n",
       "      <td>0.076</td>\n",
       "      <td>11.0</td>\n",
       "      <td>34.0</td>\n",
       "      <td>0.9978</td>\n",
       "      <td>3.51</td>\n",
       "      <td>0.56</td>\n",
       "      <td>9.4</td>\n",
       "      <td>5</td>\n",
       "      <td>0</td>\n",
       "      <td>low</td>\n",
       "      <td>bad</td>\n",
       "    </tr>\n",
       "  </tbody>\n",
       "</table>\n",
       "</div>"
      ],
      "text/plain": [
       "   fixed acidity  volatile acidity  citric acid  residual sugar  chlorides  \\\n",
       "0            7.4              0.70         0.00             1.9      0.076   \n",
       "1            7.8              0.88         0.00             2.6      0.098   \n",
       "2            7.8              0.76         0.04             2.3      0.092   \n",
       "3           11.2              0.28         0.56             1.9      0.075   \n",
       "4            7.4              0.70         0.00             1.9      0.076   \n",
       "\n",
       "   free sulfur dioxide  total sulfur dioxide  density    pH  sulphates  \\\n",
       "0                 11.0                  34.0   0.9978  3.51       0.56   \n",
       "1                 25.0                  67.0   0.9968  3.20       0.68   \n",
       "2                 15.0                  54.0   0.9970  3.26       0.65   \n",
       "3                 17.0                  60.0   0.9980  3.16       0.58   \n",
       "4                 11.0                  34.0   0.9978  3.51       0.56   \n",
       "\n",
       "   alcohol  quality  high_alc acid_level quality_2  \n",
       "0      9.4        5         0        low       bad  \n",
       "1      9.8        5         0        med       bad  \n",
       "2      9.8        5         0        med       bad  \n",
       "3      9.8        6         0        med       bad  \n",
       "4      9.4        5         0        low       bad  "
      ]
     },
     "execution_count": 2,
     "metadata": {},
     "output_type": "execute_result"
    }
   ],
   "source": [
    "# load in data\n",
    "df = pd.read_csv(\"./data/winequality-red-features.csv\")\n",
    "df.head()"
   ]
  },
  {
   "cell_type": "code",
   "execution_count": 3,
   "metadata": {},
   "outputs": [
    {
     "data": {
      "text/plain": [
       "fixed acidity           float64\n",
       "volatile acidity        float64\n",
       "citric acid             float64\n",
       "residual sugar          float64\n",
       "chlorides               float64\n",
       "free sulfur dioxide     float64\n",
       "total sulfur dioxide    float64\n",
       "density                 float64\n",
       "pH                      float64\n",
       "sulphates               float64\n",
       "alcohol                 float64\n",
       "quality                   int64\n",
       "high_alc                  int64\n",
       "acid_level               object\n",
       "quality_2                object\n",
       "dtype: object"
      ]
     },
     "execution_count": 3,
     "metadata": {},
     "output_type": "execute_result"
    }
   ],
   "source": [
    "df.dtypes"
   ]
  },
  {
   "cell_type": "markdown",
   "metadata": {},
   "source": [
    "So the idea here is that we want to make each row of our table a list of values, and have each of these stored with an index. That's the format that `mlxtend` expects for apriori and association rules."
   ]
  },
  {
   "cell_type": "code",
   "execution_count": 24,
   "metadata": {},
   "outputs": [],
   "source": [
    "float_series = df['fixed acidity']\n",
    "categorical_series = df['acid_level']\n",
    "boolean_series = df['quality_2']\n",
    "boolean_series2 = df['high_alc']\n",
    "int_series = df['quality']"
   ]
  },
  {
   "cell_type": "code",
   "execution_count": 51,
   "metadata": {},
   "outputs": [],
   "source": [
    "def float_processer(series, title, cutoffs = 4, na_action = ['label', 'return_na'][1], print_labels = False):\n",
    "    '''\n",
    "    SUMMARY: Gives bin labeling to float data based off of splits in the data\n",
    "    \n",
    "    INPUTS:\n",
    "    - series: A pandas series object of type float\n",
    "    - title: A title used for the feature of type string\n",
    "    - cutoffs: the number of bins to place data into. The more bins, the more granular.\n",
    "    - na_action: desired action for missing values. \"label\" will return a string with \"title_is_na\", \"return_na\" will return NA\n",
    "    - print_labels: a boolean value to print out the label values before assignment. Useful for debugging.\n",
    "    \n",
    "    OUTPUTS:\n",
    "    - a pandas series object of the bin-labelled data\n",
    "    \n",
    "    NOTES:\n",
    "    - string labels can get long. opt for shorter ones if possible.\n",
    "    - string labels will come out in the format \"title_lessthan_cutoffval\" or \"title_morethan_cutoffval\"\n",
    "    - Cutoff values are calulated by sorting the data and taking the value at each index 1/cutoffs way through the data.\n",
    "    \n",
    "    '''\n",
    "    \n",
    "    \n",
    "    # find splits in data based on ordering\n",
    "    len_series = series.shape[0]\n",
    "    series_sorted = series.sort_values().reset_index(drop = True)\n",
    "    cutoff_val_ind = [ceil( (i+1) / cutoffs * len_series) for i in range(cutoffs-1)]\n",
    "    cutoff_vals = series_sorted[cutoff_val_ind].values\n",
    "    \n",
    "    # label creation\n",
    "    str_labels = [title + \"_lessthan_\" + str(val) for val in cutoff_vals]\n",
    "    str_labels.append(title + \"_morethan_\" + str(cutoff_vals[cutoffs-2]))\n",
    "    \n",
    "    if print_labels:\n",
    "        print(str_labels)\n",
    "    \n",
    "    output_list = []\n",
    "    # likely can have better parallelization if needed\n",
    "    # populate a list with the appropriate label for the data\n",
    "    for i in range(len_series-1):\n",
    "        if np.isnan(series[i]):\n",
    "            if na_action == \"label\":\n",
    "                output_list.append(title + \"is_na\")\n",
    "            elif na_action == \"return_na\":\n",
    "                output_list.append(np.nan)\n",
    "        for j in range(len(cutoff_vals)):\n",
    "            if series[i] <= cutoff_vals[j]:\n",
    "                output_list.append(str_labels[j])\n",
    "                next\n",
    "            elif j == len(cutoff_vals):\n",
    "                output_list.append(str_labels[len(cutoff_vals)])\n",
    "                next\n",
    "    \n",
    "    # can debate whether list or series is better later\n",
    "    return pd.Series(output_list)\n"
   ]
  },
  {
   "cell_type": "code",
   "execution_count": 52,
   "metadata": {},
   "outputs": [
    {
     "data": {
      "text/plain": [
       "array(['fixed_acidity_lessthan_7.7', 'fixed_acidity_lessthan_8.2',\n",
       "       'fixed_acidity_lessthan_9.0', 'fixed_acidity_lessthan_10.2',\n",
       "       'fixed_acidity_lessthan_6.8', 'fixed_acidity_lessthan_7.2'],\n",
       "      dtype=object)"
      ]
     },
     "execution_count": 52,
     "metadata": {},
     "output_type": "execute_result"
    }
   ],
   "source": [
    "# test for float_processor\n",
    "\n",
    "float_processer(float_series, \"fixed_acidity\", 7, True).unique()"
   ]
  },
  {
   "cell_type": "code",
   "execution_count": 16,
   "metadata": {},
   "outputs": [],
   "source": [
    "def boolean_processer(series, title, which_yes = 1, print_labels = False):\n",
    "    '''\n",
    "    SUMMARY: Gives bin labeling to boolean data\n",
    "    \n",
    "    INPUTS:\n",
    "    - series: A pandas series object of type float\n",
    "    - title: A title used for the feature of type string\n",
    "    - which_yes: which number in the data is used as the \"yes\" marking\n",
    "    - print_labels: a boolean value to print out the label values before assignment. Useful for debugging.\n",
    "    \n",
    "    OUTPUTS:\n",
    "    - a pandas series object of the bin-labelled data\n",
    "    \n",
    "    NOTES:\n",
    "    - string labels can get long. opt for shorter ones if possible.\n",
    "    - string labels will come out in the format \"title_yes\" or \"title_no\"\n",
    "    - Cutoff values are calulated by sorting the data and taking the value at each index 1/cutoffs way through the data.\n",
    "    \n",
    "    '''\n",
    "    len_series = series.shape[0]\n",
    "    \n",
    "    # label creation\n",
    "    str_labels = [title + \"_no\", title + \"_yes\"]\n",
    "    \n",
    "    if print_labels:\n",
    "        print(str_labels)\n",
    "    \n",
    "    output_list = []\n",
    "    # likely can have better parallelization if needed\n",
    "    # populate a list with the appropriate label for the data\n",
    "    \n",
    "    ### \n",
    "    for i in range(len_series-1):\n",
    "        if series[i] == which_yes:\n",
    "            output_list.append(str_labels[1])\n",
    "        else:\n",
    "            output_list.append(str_labels[0])\n",
    "    \n",
    "    # can debate whether list or series is better later\n",
    "    return pd.Series(output_list)\n"
   ]
  },
  {
   "cell_type": "code",
   "execution_count": 22,
   "metadata": {},
   "outputs": [
    {
     "data": {
      "text/plain": [
       "0        high_alc_no\n",
       "1        high_alc_no\n",
       "2        high_alc_no\n",
       "3        high_alc_no\n",
       "4        high_alc_no\n",
       "5        high_alc_no\n",
       "6        high_alc_no\n",
       "7        high_alc_no\n",
       "8        high_alc_no\n",
       "9       high_alc_yes\n",
       "10       high_alc_no\n",
       "11      high_alc_yes\n",
       "12       high_alc_no\n",
       "13       high_alc_no\n",
       "14       high_alc_no\n",
       "15       high_alc_no\n",
       "16      high_alc_yes\n",
       "17       high_alc_no\n",
       "18       high_alc_no\n",
       "19       high_alc_no\n",
       "20       high_alc_no\n",
       "21       high_alc_no\n",
       "22       high_alc_no\n",
       "23       high_alc_no\n",
       "24       high_alc_no\n",
       "25       high_alc_no\n",
       "26       high_alc_no\n",
       "27       high_alc_no\n",
       "28       high_alc_no\n",
       "29       high_alc_no\n",
       "            ...     \n",
       "1568     high_alc_no\n",
       "1569    high_alc_yes\n",
       "1570    high_alc_yes\n",
       "1571    high_alc_yes\n",
       "1572     high_alc_no\n",
       "1573    high_alc_yes\n",
       "1574    high_alc_yes\n",
       "1575    high_alc_yes\n",
       "1576    high_alc_yes\n",
       "1577    high_alc_yes\n",
       "1578    high_alc_yes\n",
       "1579    high_alc_yes\n",
       "1580    high_alc_yes\n",
       "1581    high_alc_yes\n",
       "1582    high_alc_yes\n",
       "1583     high_alc_no\n",
       "1584    high_alc_yes\n",
       "1585    high_alc_yes\n",
       "1586    high_alc_yes\n",
       "1587    high_alc_yes\n",
       "1588    high_alc_yes\n",
       "1589     high_alc_no\n",
       "1590    high_alc_yes\n",
       "1591    high_alc_yes\n",
       "1592    high_alc_yes\n",
       "1593     high_alc_no\n",
       "1594    high_alc_yes\n",
       "1595    high_alc_yes\n",
       "1596    high_alc_yes\n",
       "1597    high_alc_yes\n",
       "Length: 1598, dtype: object"
      ]
     },
     "execution_count": 22,
     "metadata": {},
     "output_type": "execute_result"
    }
   ],
   "source": [
    "# works\n",
    "boolean_processer(boolean_series2, \"high_alc\")"
   ]
  },
  {
   "cell_type": "code",
   "execution_count": 23,
   "metadata": {},
   "outputs": [
    {
     "data": {
      "text/plain": [
       "0        quality_no\n",
       "1        quality_no\n",
       "2        quality_no\n",
       "3        quality_no\n",
       "4        quality_no\n",
       "5        quality_no\n",
       "6        quality_no\n",
       "7       quality_yes\n",
       "8       quality_yes\n",
       "9        quality_no\n",
       "10       quality_no\n",
       "11       quality_no\n",
       "12       quality_no\n",
       "13       quality_no\n",
       "14       quality_no\n",
       "15       quality_no\n",
       "16      quality_yes\n",
       "17       quality_no\n",
       "18       quality_no\n",
       "19       quality_no\n",
       "20       quality_no\n",
       "21       quality_no\n",
       "22       quality_no\n",
       "23       quality_no\n",
       "24       quality_no\n",
       "25       quality_no\n",
       "26       quality_no\n",
       "27       quality_no\n",
       "28       quality_no\n",
       "29       quality_no\n",
       "           ...     \n",
       "1568     quality_no\n",
       "1569     quality_no\n",
       "1570     quality_no\n",
       "1571     quality_no\n",
       "1572     quality_no\n",
       "1573     quality_no\n",
       "1574     quality_no\n",
       "1575     quality_no\n",
       "1576     quality_no\n",
       "1577     quality_no\n",
       "1578     quality_no\n",
       "1579     quality_no\n",
       "1580     quality_no\n",
       "1581     quality_no\n",
       "1582     quality_no\n",
       "1583     quality_no\n",
       "1584    quality_yes\n",
       "1585     quality_no\n",
       "1586     quality_no\n",
       "1587     quality_no\n",
       "1588     quality_no\n",
       "1589     quality_no\n",
       "1590     quality_no\n",
       "1591     quality_no\n",
       "1592     quality_no\n",
       "1593     quality_no\n",
       "1594     quality_no\n",
       "1595     quality_no\n",
       "1596     quality_no\n",
       "1597     quality_no\n",
       "Length: 1598, dtype: object"
      ]
     },
     "execution_count": 23,
     "metadata": {},
     "output_type": "execute_result"
    }
   ],
   "source": [
    "boolean_processer(boolean_series, \"quality\", which_yes = \"good\")"
   ]
  },
  {
   "cell_type": "code",
   "execution_count": 32,
   "metadata": {},
   "outputs": [
    {
     "name": "stdout",
     "output_type": "stream",
     "text": [
      "['quality_lessthan_5', 'quality_lessthan_5', 'quality_lessthan_5', 'quality_lessthan_6', 'quality_lessthan_6', 'quality_lessthan_6', 'quality_morethan_6']\n"
     ]
    },
    {
     "data": {
      "text/plain": [
       "array(['quality_lessthan_5', 'quality_lessthan_6'], dtype=object)"
      ]
     },
     "execution_count": 32,
     "metadata": {},
     "output_type": "execute_result"
    }
   ],
   "source": [
    "float_processer(int_series, \"quality\", cutoffs = 7, print_labels = True).unique()"
   ]
  },
  {
   "cell_type": "code",
   "execution_count": 27,
   "metadata": {},
   "outputs": [
    {
     "data": {
      "text/plain": [
       "array([5, 6, 7, 4, 8, 3], dtype=int64)"
      ]
     },
     "execution_count": 27,
     "metadata": {},
     "output_type": "execute_result"
    }
   ],
   "source": [
    "int_series.unique()"
   ]
  },
  {
   "cell_type": "code",
   "execution_count": 42,
   "metadata": {},
   "outputs": [],
   "source": [
    "def cat_processer(series, title, print_labels = False):\n",
    "    '''\n",
    "    SUMMARY: Gives bin labeling to categorical data based off of splits in the data\n",
    "    \n",
    "    INPUTS:\n",
    "    - series: A pandas series object of type float\n",
    "    - title: A title used for the feature of type string\n",
    "    - print_labels: a boolean value to print out the label values before assignment. Useful for debugging.\n",
    "    \n",
    "    OUTPUTS:\n",
    "    - a pandas series object of the bin-labelled data\n",
    "    \n",
    "    NOTES:\n",
    "    - string labels can get long. opt for shorter ones if possible.\n",
    "    - string labels will come out in the format \"title_is_label\"\n",
    "    \n",
    "    '''\n",
    "    \n",
    "    \n",
    "    # find splits in data based on ordering\n",
    "    len_series = series.shape[0]\n",
    "    unique_vals = series.unique()\n",
    "    \n",
    "    # label creation\n",
    "    str_labels = [title + \"_is_\" + val for val in unique_vals]\n",
    "    \n",
    "    if print_labels:\n",
    "        print(str_labels)\n",
    "    \n",
    "    output_list = []\n",
    "    # likely can have better parallelization if needed\n",
    "    # populate a list with the appropriate label for the data\n",
    "    for i in range(len_series-1):\n",
    "        for j in range(unique_vals.shape[0]):\n",
    "            if series[i] == unique_vals[j]:\n",
    "                output_list.append(str_labels[j])\n",
    "                next\n",
    "    \n",
    "    # can debate whether list or series is better later\n",
    "    return pd.Series(output_list)\n"
   ]
  },
  {
   "cell_type": "code",
   "execution_count": 46,
   "metadata": {},
   "outputs": [
    {
     "name": "stdout",
     "output_type": "stream",
     "text": [
      "['acid_level_is_low', 'acid_level_is_med', 'acid_level_is_high']\n"
     ]
    },
    {
     "data": {
      "text/plain": [
       "0       acid_level_is_low\n",
       "1       acid_level_is_med\n",
       "2       acid_level_is_med\n",
       "3       acid_level_is_med\n",
       "4       acid_level_is_low\n",
       "5       acid_level_is_low\n",
       "6       acid_level_is_med\n",
       "7       acid_level_is_med\n",
       "8       acid_level_is_med\n",
       "9       acid_level_is_med\n",
       "10      acid_level_is_med\n",
       "11      acid_level_is_med\n",
       "12      acid_level_is_low\n",
       "13      acid_level_is_med\n",
       "14      acid_level_is_med\n",
       "15      acid_level_is_med\n",
       "16      acid_level_is_med\n",
       "17      acid_level_is_med\n",
       "18      acid_level_is_med\n",
       "19      acid_level_is_med\n",
       "20      acid_level_is_med\n",
       "21      acid_level_is_low\n",
       "22      acid_level_is_med\n",
       "23      acid_level_is_med\n",
       "24      acid_level_is_med\n",
       "25      acid_level_is_med\n",
       "26      acid_level_is_med\n",
       "27      acid_level_is_med\n",
       "28      acid_level_is_med\n",
       "29      acid_level_is_med\n",
       "              ...        \n",
       "1568    acid_level_is_med\n",
       "1569    acid_level_is_med\n",
       "1570    acid_level_is_med\n",
       "1571    acid_level_is_med\n",
       "1572    acid_level_is_med\n",
       "1573    acid_level_is_low\n",
       "1574    acid_level_is_med\n",
       "1575    acid_level_is_med\n",
       "1576    acid_level_is_med\n",
       "1577    acid_level_is_low\n",
       "1578    acid_level_is_med\n",
       "1579    acid_level_is_low\n",
       "1580    acid_level_is_med\n",
       "1581    acid_level_is_low\n",
       "1582    acid_level_is_low\n",
       "1583    acid_level_is_med\n",
       "1584    acid_level_is_med\n",
       "1585    acid_level_is_med\n",
       "1586    acid_level_is_med\n",
       "1587    acid_level_is_low\n",
       "1588    acid_level_is_med\n",
       "1589    acid_level_is_med\n",
       "1590    acid_level_is_med\n",
       "1591    acid_level_is_low\n",
       "1592    acid_level_is_med\n",
       "1593    acid_level_is_med\n",
       "1594    acid_level_is_med\n",
       "1595    acid_level_is_low\n",
       "1596    acid_level_is_med\n",
       "1597    acid_level_is_low\n",
       "Length: 1598, dtype: object"
      ]
     },
     "execution_count": 46,
     "metadata": {},
     "output_type": "execute_result"
    }
   ],
   "source": [
    "cat_processer(categorical_series, \"acid_level\", True)"
   ]
  },
  {
   "cell_type": "code",
   "execution_count": 49,
   "metadata": {},
   "outputs": [
    {
     "data": {
      "text/plain": [
       "0        quality_2_is_bad\n",
       "1        quality_2_is_bad\n",
       "2        quality_2_is_bad\n",
       "3        quality_2_is_bad\n",
       "4        quality_2_is_bad\n",
       "5        quality_2_is_bad\n",
       "6        quality_2_is_bad\n",
       "7       quality_2_is_good\n",
       "8       quality_2_is_good\n",
       "9        quality_2_is_bad\n",
       "10       quality_2_is_bad\n",
       "11       quality_2_is_bad\n",
       "12       quality_2_is_bad\n",
       "13       quality_2_is_bad\n",
       "14       quality_2_is_bad\n",
       "15       quality_2_is_bad\n",
       "16      quality_2_is_good\n",
       "17       quality_2_is_bad\n",
       "18       quality_2_is_bad\n",
       "19       quality_2_is_bad\n",
       "20       quality_2_is_bad\n",
       "21       quality_2_is_bad\n",
       "22       quality_2_is_bad\n",
       "23       quality_2_is_bad\n",
       "24       quality_2_is_bad\n",
       "25       quality_2_is_bad\n",
       "26       quality_2_is_bad\n",
       "27       quality_2_is_bad\n",
       "28       quality_2_is_bad\n",
       "29       quality_2_is_bad\n",
       "              ...        \n",
       "1568     quality_2_is_bad\n",
       "1569     quality_2_is_bad\n",
       "1570     quality_2_is_bad\n",
       "1571     quality_2_is_bad\n",
       "1572     quality_2_is_bad\n",
       "1573     quality_2_is_bad\n",
       "1574     quality_2_is_bad\n",
       "1575     quality_2_is_bad\n",
       "1576     quality_2_is_bad\n",
       "1577     quality_2_is_bad\n",
       "1578     quality_2_is_bad\n",
       "1579     quality_2_is_bad\n",
       "1580     quality_2_is_bad\n",
       "1581     quality_2_is_bad\n",
       "1582     quality_2_is_bad\n",
       "1583     quality_2_is_bad\n",
       "1584    quality_2_is_good\n",
       "1585     quality_2_is_bad\n",
       "1586     quality_2_is_bad\n",
       "1587     quality_2_is_bad\n",
       "1588     quality_2_is_bad\n",
       "1589     quality_2_is_bad\n",
       "1590     quality_2_is_bad\n",
       "1591     quality_2_is_bad\n",
       "1592     quality_2_is_bad\n",
       "1593     quality_2_is_bad\n",
       "1594     quality_2_is_bad\n",
       "1595     quality_2_is_bad\n",
       "1596     quality_2_is_bad\n",
       "1597     quality_2_is_bad\n",
       "Length: 1598, dtype: object"
      ]
     },
     "execution_count": 49,
     "metadata": {},
     "output_type": "execute_result"
    }
   ],
   "source": [
    "cat_processer(boolean_series, \"quality_2\")"
   ]
  },
  {
   "cell_type": "code",
   "execution_count": 50,
   "metadata": {},
   "outputs": [],
   "source": [
    "nan_series = pd.Series([1, 4.2, np.nan, 5, 12, 1, 1.2, 7, np.nan])"
   ]
  },
  {
   "cell_type": "code",
   "execution_count": 56,
   "metadata": {},
   "outputs": [
    {
     "name": "stdout",
     "output_type": "stream",
     "text": [
      "['tester_lessthan_4.2', 'tester_lessthan_7.0', 'tester_lessthan_nan', 'tester_morethan_nan']\n"
     ]
    },
    {
     "data": {
      "text/plain": [
       "0     tester_lessthan_4.2\n",
       "1     tester_lessthan_7.0\n",
       "2     tester_lessthan_4.2\n",
       "3     tester_lessthan_7.0\n",
       "4                     NaN\n",
       "5     tester_lessthan_7.0\n",
       "6     tester_lessthan_4.2\n",
       "7     tester_lessthan_7.0\n",
       "8     tester_lessthan_4.2\n",
       "9     tester_lessthan_7.0\n",
       "10    tester_lessthan_7.0\n",
       "dtype: object"
      ]
     },
     "execution_count": 56,
     "metadata": {},
     "output_type": "execute_result"
    }
   ],
   "source": [
    "float_processer(nan_series, \"tester\", cutoffs = 4, print_labels = True)"
   ]
  },
  {
   "cell_type": "code",
   "execution_count": null,
   "metadata": {},
   "outputs": [],
   "source": []
  }
 ],
 "metadata": {
  "kernelspec": {
   "display_name": "Python 3",
   "language": "python",
   "name": "python3"
  },
  "language_info": {
   "codemirror_mode": {
    "name": "ipython",
    "version": 3
   },
   "file_extension": ".py",
   "mimetype": "text/x-python",
   "name": "python",
   "nbconvert_exporter": "python",
   "pygments_lexer": "ipython3",
   "version": "3.7.3"
  }
 },
 "nbformat": 4,
 "nbformat_minor": 2
}
