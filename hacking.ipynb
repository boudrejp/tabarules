{
 "cells": [
  {
   "cell_type": "markdown",
   "metadata": {},
   "source": [
    "# tabarules\n",
    "\n",
    "Meant to take tabular data and turn it into a format usable for `mlxtend` association rules mining."
   ]
  },
  {
   "cell_type": "code",
   "execution_count": 1,
   "metadata": {},
   "outputs": [],
   "source": [
    "#!pip install mlxtend"
   ]
  },
  {
   "cell_type": "markdown",
   "metadata": {},
   "source": [
    "### functions to write\n",
    "* ~~float_processor~~\n",
    "* ~~boolean_processor~~ (needs to be robust to categorial)\n",
    "* ~~int_processor (debatable if needed)~~\n",
    "* ~~category_processor~~\n",
    "* determine_dtype (takes series and identifies relevant fxn)\n",
    "* featurize_df\n",
    "\n",
    "__other associated todos__\n",
    "* write tests to ensure that the data coming in is actually of the right type, throw error messages"
   ]
  },
  {
   "cell_type": "code",
   "execution_count": 2,
   "metadata": {},
   "outputs": [],
   "source": [
    "# imports\n",
    "import os\n",
    "import numpy as np\n",
    "import pandas as pd\n",
    "import mlxtend\n",
    "from math import ceil"
   ]
  },
  {
   "cell_type": "code",
   "execution_count": 3,
   "metadata": {},
   "outputs": [
    {
     "data": {
      "text/plain": [
       "(array([0, 2], dtype=int64),)"
      ]
     },
     "execution_count": 3,
     "metadata": {},
     "output_type": "execute_result"
    }
   ],
   "source": [
    "# this is the nan functionality\n",
    "\n",
    "sample = pd.Series([np.nan, 0, np.nan, 7])\n",
    "np.where(np.isnan(sample))"
   ]
  },
  {
   "cell_type": "code",
   "execution_count": 4,
   "metadata": {},
   "outputs": [
    {
     "data": {
      "text/html": [
       "<div>\n",
       "<style scoped>\n",
       "    .dataframe tbody tr th:only-of-type {\n",
       "        vertical-align: middle;\n",
       "    }\n",
       "\n",
       "    .dataframe tbody tr th {\n",
       "        vertical-align: top;\n",
       "    }\n",
       "\n",
       "    .dataframe thead th {\n",
       "        text-align: right;\n",
       "    }\n",
       "</style>\n",
       "<table border=\"1\" class=\"dataframe\">\n",
       "  <thead>\n",
       "    <tr style=\"text-align: right;\">\n",
       "      <th></th>\n",
       "      <th>fixed acidity</th>\n",
       "      <th>volatile acidity</th>\n",
       "      <th>citric acid</th>\n",
       "      <th>residual sugar</th>\n",
       "      <th>chlorides</th>\n",
       "      <th>free sulfur dioxide</th>\n",
       "      <th>total sulfur dioxide</th>\n",
       "      <th>density</th>\n",
       "      <th>pH</th>\n",
       "      <th>sulphates</th>\n",
       "      <th>alcohol</th>\n",
       "      <th>quality</th>\n",
       "      <th>high_alc</th>\n",
       "      <th>acid_level</th>\n",
       "      <th>quality_2</th>\n",
       "    </tr>\n",
       "  </thead>\n",
       "  <tbody>\n",
       "    <tr>\n",
       "      <th>0</th>\n",
       "      <td>7.4</td>\n",
       "      <td>0.70</td>\n",
       "      <td>0.00</td>\n",
       "      <td>1.9</td>\n",
       "      <td>0.076</td>\n",
       "      <td>11.0</td>\n",
       "      <td>34.0</td>\n",
       "      <td>0.9978</td>\n",
       "      <td>3.51</td>\n",
       "      <td>0.56</td>\n",
       "      <td>9.4</td>\n",
       "      <td>5</td>\n",
       "      <td>0</td>\n",
       "      <td>low</td>\n",
       "      <td>bad</td>\n",
       "    </tr>\n",
       "    <tr>\n",
       "      <th>1</th>\n",
       "      <td>7.8</td>\n",
       "      <td>0.88</td>\n",
       "      <td>0.00</td>\n",
       "      <td>2.6</td>\n",
       "      <td>0.098</td>\n",
       "      <td>25.0</td>\n",
       "      <td>67.0</td>\n",
       "      <td>0.9968</td>\n",
       "      <td>3.20</td>\n",
       "      <td>0.68</td>\n",
       "      <td>9.8</td>\n",
       "      <td>5</td>\n",
       "      <td>0</td>\n",
       "      <td>med</td>\n",
       "      <td>bad</td>\n",
       "    </tr>\n",
       "    <tr>\n",
       "      <th>2</th>\n",
       "      <td>7.8</td>\n",
       "      <td>0.76</td>\n",
       "      <td>0.04</td>\n",
       "      <td>2.3</td>\n",
       "      <td>0.092</td>\n",
       "      <td>15.0</td>\n",
       "      <td>54.0</td>\n",
       "      <td>0.9970</td>\n",
       "      <td>3.26</td>\n",
       "      <td>0.65</td>\n",
       "      <td>9.8</td>\n",
       "      <td>5</td>\n",
       "      <td>0</td>\n",
       "      <td>med</td>\n",
       "      <td>bad</td>\n",
       "    </tr>\n",
       "    <tr>\n",
       "      <th>3</th>\n",
       "      <td>11.2</td>\n",
       "      <td>0.28</td>\n",
       "      <td>0.56</td>\n",
       "      <td>1.9</td>\n",
       "      <td>0.075</td>\n",
       "      <td>17.0</td>\n",
       "      <td>60.0</td>\n",
       "      <td>0.9980</td>\n",
       "      <td>3.16</td>\n",
       "      <td>0.58</td>\n",
       "      <td>9.8</td>\n",
       "      <td>6</td>\n",
       "      <td>0</td>\n",
       "      <td>med</td>\n",
       "      <td>bad</td>\n",
       "    </tr>\n",
       "    <tr>\n",
       "      <th>4</th>\n",
       "      <td>7.4</td>\n",
       "      <td>0.70</td>\n",
       "      <td>0.00</td>\n",
       "      <td>1.9</td>\n",
       "      <td>0.076</td>\n",
       "      <td>11.0</td>\n",
       "      <td>34.0</td>\n",
       "      <td>0.9978</td>\n",
       "      <td>3.51</td>\n",
       "      <td>0.56</td>\n",
       "      <td>9.4</td>\n",
       "      <td>5</td>\n",
       "      <td>0</td>\n",
       "      <td>low</td>\n",
       "      <td>bad</td>\n",
       "    </tr>\n",
       "  </tbody>\n",
       "</table>\n",
       "</div>"
      ],
      "text/plain": [
       "   fixed acidity  volatile acidity  citric acid  residual sugar  chlorides  \\\n",
       "0            7.4              0.70         0.00             1.9      0.076   \n",
       "1            7.8              0.88         0.00             2.6      0.098   \n",
       "2            7.8              0.76         0.04             2.3      0.092   \n",
       "3           11.2              0.28         0.56             1.9      0.075   \n",
       "4            7.4              0.70         0.00             1.9      0.076   \n",
       "\n",
       "   free sulfur dioxide  total sulfur dioxide  density    pH  sulphates  \\\n",
       "0                 11.0                  34.0   0.9978  3.51       0.56   \n",
       "1                 25.0                  67.0   0.9968  3.20       0.68   \n",
       "2                 15.0                  54.0   0.9970  3.26       0.65   \n",
       "3                 17.0                  60.0   0.9980  3.16       0.58   \n",
       "4                 11.0                  34.0   0.9978  3.51       0.56   \n",
       "\n",
       "   alcohol  quality  high_alc acid_level quality_2  \n",
       "0      9.4        5         0        low       bad  \n",
       "1      9.8        5         0        med       bad  \n",
       "2      9.8        5         0        med       bad  \n",
       "3      9.8        6         0        med       bad  \n",
       "4      9.4        5         0        low       bad  "
      ]
     },
     "execution_count": 4,
     "metadata": {},
     "output_type": "execute_result"
    }
   ],
   "source": [
    "# load in data\n",
    "df = pd.read_csv(\"./data/winequality-red-features.csv\")\n",
    "df.head()"
   ]
  },
  {
   "cell_type": "code",
   "execution_count": 5,
   "metadata": {},
   "outputs": [
    {
     "data": {
      "text/plain": [
       "fixed acidity           float64\n",
       "volatile acidity        float64\n",
       "citric acid             float64\n",
       "residual sugar          float64\n",
       "chlorides               float64\n",
       "free sulfur dioxide     float64\n",
       "total sulfur dioxide    float64\n",
       "density                 float64\n",
       "pH                      float64\n",
       "sulphates               float64\n",
       "alcohol                 float64\n",
       "quality                   int64\n",
       "high_alc                  int64\n",
       "acid_level               object\n",
       "quality_2                object\n",
       "dtype: object"
      ]
     },
     "execution_count": 5,
     "metadata": {},
     "output_type": "execute_result"
    }
   ],
   "source": [
    "df.dtypes"
   ]
  },
  {
   "cell_type": "markdown",
   "metadata": {},
   "source": [
    "So the idea here is that we want to make each row of our table a list of values, and have each of these stored with an index. That's the format that `mlxtend` expects for apriori and association rules."
   ]
  },
  {
   "cell_type": "code",
   "execution_count": 6,
   "metadata": {},
   "outputs": [],
   "source": [
    "float_series = df['fixed acidity']\n",
    "categorical_series = df['acid_level']\n",
    "boolean_series = df['quality_2']\n",
    "boolean_series2 = df['high_alc']\n",
    "int_series = df['quality']"
   ]
  },
  {
   "cell_type": "code",
   "execution_count": 7,
   "metadata": {},
   "outputs": [],
   "source": [
    "def float_processer(series, \\\n",
    "                    title, \\\n",
    "                    cutoffs = 4, \\\n",
    "                    na_action = ['label', 'return_na'][1], \\\n",
    "                    print_labels = False):\n",
    "    '''\n",
    "    SUMMARY: Gives bin labeling to float data based off of splits in the data\n",
    "    \n",
    "    INPUTS:\n",
    "    - series: A pandas series object of type float\n",
    "    - title: A title used for the feature of type string\n",
    "    - cutoffs: the number of bins to place data into. The more bins, the more granular.\n",
    "    - na_action: desired action for missing values. \"label\" will return a string with \"title_is_na\", \"return_na\" will return NA\n",
    "    - print_labels: a boolean value to print out the label values before assignment. Useful for debugging.\n",
    "    \n",
    "    OUTPUTS:\n",
    "    - a pandas series object of the bin-labelled data\n",
    "    \n",
    "    NOTES:\n",
    "    - string labels can get long. opt for shorter ones if possible.\n",
    "    - string labels will come out in the format \"title_lessthan_cutoffval\" or \"title_morethan_cutoffval\"\n",
    "    - Cutoff values are calulated by sorting the data and taking the value at each index 1/cutoffs way through the data.\n",
    "    \n",
    "    '''\n",
    "    \n",
    "    \n",
    "    # find splits in data based on ordering\n",
    "    not_nas = np.where(np.logical_not(np.isnan(series)))\n",
    "    not_na_series = series[not_nas[0]]\n",
    "    len_series = not_na_series.shape[0]\n",
    "    len_tot_series = series.shape[0]\n",
    "    series_sorted = not_na_series.sort_values().reset_index(drop = True)\n",
    "    cutoff_val_ind = [ceil( (i+1) / cutoffs * len_series) for i in range(cutoffs-1)]\n",
    "    cutoff_vals = series_sorted[cutoff_val_ind].values\n",
    "    \n",
    "    # label creation\n",
    "    str_labels = [title + \"_lessthan_\" + str(val) for val in cutoff_vals]\n",
    "    str_labels.append(title + \"_morethan_\" + str(cutoff_vals[cutoffs-2]))\n",
    "    \n",
    "    if print_labels:\n",
    "        print(str_labels)\n",
    "    \n",
    "    output_list = []\n",
    "    # likely can have better parallelization if needed\n",
    "    # populate a list with the appropriate label for the data\n",
    "    for i in range(len_tot_series):\n",
    "        if pd.isna(series[i]):\n",
    "            if na_action == \"label\":\n",
    "                output_list.append(title + \"_is_na\")\n",
    "                continue\n",
    "            elif na_action == \"return_na\":\n",
    "                output_list.append(np.nan)\n",
    "                continue\n",
    "        for j in range(len(cutoff_vals)):\n",
    "            if series[i] <= cutoff_vals[j]:\n",
    "                output_list.append(str_labels[j])\n",
    "                break\n",
    "            elif j == len(cutoff_vals)-1:\n",
    "                output_list.append(str_labels[len(cutoff_vals)])\n",
    "                break\n",
    "    \n",
    "    # can debate whether list or series is better later\n",
    "    return pd.Series(output_list)\n"
   ]
  },
  {
   "cell_type": "code",
   "execution_count": 8,
   "metadata": {},
   "outputs": [
    {
     "name": "stdout",
     "output_type": "stream",
     "text": [
      "['fixed_acidity_lessthan_7.1', 'fixed_acidity_lessthan_7.9', 'fixed_acidity_lessthan_9.2', 'fixed_acidity_morethan_9.2']\n",
      "0     fixed_acidity_lessthan_7.9\n",
      "1     fixed_acidity_lessthan_7.9\n",
      "2     fixed_acidity_lessthan_7.9\n",
      "3     fixed_acidity_morethan_9.2\n",
      "4     fixed_acidity_lessthan_7.9\n",
      "5     fixed_acidity_lessthan_7.9\n",
      "6     fixed_acidity_lessthan_7.9\n",
      "7     fixed_acidity_lessthan_7.9\n",
      "8     fixed_acidity_lessthan_7.9\n",
      "9     fixed_acidity_lessthan_7.9\n",
      "10    fixed_acidity_lessthan_7.1\n",
      "11    fixed_acidity_lessthan_7.9\n",
      "12    fixed_acidity_lessthan_7.1\n",
      "13    fixed_acidity_lessthan_7.9\n",
      "14    fixed_acidity_lessthan_9.2\n",
      "15    fixed_acidity_lessthan_9.2\n",
      "16    fixed_acidity_lessthan_9.2\n",
      "17    fixed_acidity_lessthan_9.2\n",
      "18    fixed_acidity_lessthan_7.9\n",
      "19    fixed_acidity_lessthan_7.9\n",
      "dtype: object\n",
      "0      7.4\n",
      "1      7.8\n",
      "2      7.8\n",
      "3     11.2\n",
      "4      7.4\n",
      "5      7.4\n",
      "6      7.9\n",
      "7      7.3\n",
      "8      7.8\n",
      "9      7.5\n",
      "10     6.7\n",
      "11     7.5\n",
      "12     5.6\n",
      "13     7.8\n",
      "14     8.9\n",
      "15     8.9\n",
      "16     8.5\n",
      "17     8.1\n",
      "18     7.4\n",
      "19     7.9\n",
      "Name: fixed acidity, dtype: float64\n"
     ]
    }
   ],
   "source": [
    "# test for float_processor\n",
    "\n",
    "print(float_processer(float_series, \"fixed_acidity\", 4, print_labels = True)[0:20])\n",
    "print(float_series[0:20])"
   ]
  },
  {
   "cell_type": "code",
   "execution_count": 9,
   "metadata": {},
   "outputs": [],
   "source": [
    "def boolean_processer(series, title, which_yes = 1, na_action = ['label', 'return_na'][1], print_labels = False):\n",
    "    '''\n",
    "    SUMMARY: Gives bin labeling to boolean data\n",
    "    \n",
    "    INPUTS:\n",
    "    - series: A pandas series object of type float\n",
    "    - title: A title used for the feature of type string\n",
    "    - which_yes: which number in the data is used as the \"yes\" marking\n",
    "    - print_labels: a boolean value to print out the label values before assignment. Useful for debugging.\n",
    "    \n",
    "    OUTPUTS:\n",
    "    - a pandas series object of the bin-labelled data\n",
    "    \n",
    "    NOTES:\n",
    "    - string labels can get long. opt for shorter ones if possible.\n",
    "    - string labels will come out in the format \"title_yes\" or \"title_no\"\n",
    "    - Cutoff values are calulated by sorting the data and taking the value at each index 1/cutoffs way through the data.\n",
    "    \n",
    "    '''\n",
    "    len_series = series.shape[0]\n",
    "    \n",
    "    # label creation\n",
    "    str_labels = [title + \"_no\", title + \"_yes\"]\n",
    "    \n",
    "    if print_labels:\n",
    "        print(str_labels)\n",
    "    \n",
    "    output_list = []\n",
    "    # likely can have better parallelization if needed\n",
    "    # populate a list with the appropriate label for the data\n",
    "    \n",
    "    ### \n",
    "    for i in range(len_series):\n",
    "        # deal with nas first\n",
    "        if pd.isna(series[i]):\n",
    "            if na_action == \"label\":\n",
    "                output_list.append(title + \"_is_na\")\n",
    "                continue\n",
    "            elif na_action == \"return_na\":\n",
    "                output_list.append(np.nan)\n",
    "                continue\n",
    "        # logic for dealing with regular values\n",
    "        if series[i] == which_yes:\n",
    "            output_list.append(str_labels[1])\n",
    "        else:\n",
    "            output_list.append(str_labels[0])\n",
    "    \n",
    "    # can debate whether list or series is better later\n",
    "    return pd.Series(output_list)\n"
   ]
  },
  {
   "cell_type": "code",
   "execution_count": 10,
   "metadata": {},
   "outputs": [
    {
     "data": {
      "text/plain": [
       "0        high_alc_no\n",
       "1        high_alc_no\n",
       "2        high_alc_no\n",
       "3        high_alc_no\n",
       "4        high_alc_no\n",
       "5        high_alc_no\n",
       "6        high_alc_no\n",
       "7        high_alc_no\n",
       "8        high_alc_no\n",
       "9       high_alc_yes\n",
       "10       high_alc_no\n",
       "11      high_alc_yes\n",
       "12       high_alc_no\n",
       "13       high_alc_no\n",
       "14       high_alc_no\n",
       "15       high_alc_no\n",
       "16      high_alc_yes\n",
       "17       high_alc_no\n",
       "18       high_alc_no\n",
       "19       high_alc_no\n",
       "20       high_alc_no\n",
       "21       high_alc_no\n",
       "22       high_alc_no\n",
       "23       high_alc_no\n",
       "24       high_alc_no\n",
       "25       high_alc_no\n",
       "26       high_alc_no\n",
       "27       high_alc_no\n",
       "28       high_alc_no\n",
       "29       high_alc_no\n",
       "            ...     \n",
       "1569    high_alc_yes\n",
       "1570    high_alc_yes\n",
       "1571    high_alc_yes\n",
       "1572     high_alc_no\n",
       "1573    high_alc_yes\n",
       "1574    high_alc_yes\n",
       "1575    high_alc_yes\n",
       "1576    high_alc_yes\n",
       "1577    high_alc_yes\n",
       "1578    high_alc_yes\n",
       "1579    high_alc_yes\n",
       "1580    high_alc_yes\n",
       "1581    high_alc_yes\n",
       "1582    high_alc_yes\n",
       "1583     high_alc_no\n",
       "1584    high_alc_yes\n",
       "1585    high_alc_yes\n",
       "1586    high_alc_yes\n",
       "1587    high_alc_yes\n",
       "1588    high_alc_yes\n",
       "1589     high_alc_no\n",
       "1590    high_alc_yes\n",
       "1591    high_alc_yes\n",
       "1592    high_alc_yes\n",
       "1593     high_alc_no\n",
       "1594    high_alc_yes\n",
       "1595    high_alc_yes\n",
       "1596    high_alc_yes\n",
       "1597    high_alc_yes\n",
       "1598    high_alc_yes\n",
       "Length: 1599, dtype: object"
      ]
     },
     "execution_count": 10,
     "metadata": {},
     "output_type": "execute_result"
    }
   ],
   "source": [
    "# works\n",
    "boolean_processer(boolean_series2, \"high_alc\")"
   ]
  },
  {
   "cell_type": "code",
   "execution_count": 11,
   "metadata": {},
   "outputs": [
    {
     "data": {
      "text/plain": [
       "0        quality_no\n",
       "1        quality_no\n",
       "2        quality_no\n",
       "3        quality_no\n",
       "4        quality_no\n",
       "5        quality_no\n",
       "6        quality_no\n",
       "7       quality_yes\n",
       "8       quality_yes\n",
       "9        quality_no\n",
       "10       quality_no\n",
       "11       quality_no\n",
       "12       quality_no\n",
       "13       quality_no\n",
       "14       quality_no\n",
       "15       quality_no\n",
       "16      quality_yes\n",
       "17       quality_no\n",
       "18       quality_no\n",
       "19       quality_no\n",
       "20       quality_no\n",
       "21       quality_no\n",
       "22       quality_no\n",
       "23       quality_no\n",
       "24       quality_no\n",
       "25       quality_no\n",
       "26       quality_no\n",
       "27       quality_no\n",
       "28       quality_no\n",
       "29       quality_no\n",
       "           ...     \n",
       "1569     quality_no\n",
       "1570     quality_no\n",
       "1571     quality_no\n",
       "1572     quality_no\n",
       "1573     quality_no\n",
       "1574     quality_no\n",
       "1575     quality_no\n",
       "1576     quality_no\n",
       "1577     quality_no\n",
       "1578     quality_no\n",
       "1579     quality_no\n",
       "1580     quality_no\n",
       "1581     quality_no\n",
       "1582     quality_no\n",
       "1583     quality_no\n",
       "1584    quality_yes\n",
       "1585     quality_no\n",
       "1586     quality_no\n",
       "1587     quality_no\n",
       "1588     quality_no\n",
       "1589     quality_no\n",
       "1590     quality_no\n",
       "1591     quality_no\n",
       "1592     quality_no\n",
       "1593     quality_no\n",
       "1594     quality_no\n",
       "1595     quality_no\n",
       "1596     quality_no\n",
       "1597     quality_no\n",
       "1598     quality_no\n",
       "Length: 1599, dtype: object"
      ]
     },
     "execution_count": 11,
     "metadata": {},
     "output_type": "execute_result"
    }
   ],
   "source": [
    "boolean_processer(boolean_series, \"quality\", which_yes = \"good\")"
   ]
  },
  {
   "cell_type": "code",
   "execution_count": 12,
   "metadata": {},
   "outputs": [
    {
     "name": "stdout",
     "output_type": "stream",
     "text": [
      "['quality_lessthan_5', 'quality_lessthan_5', 'quality_lessthan_5', 'quality_lessthan_6', 'quality_lessthan_6', 'quality_lessthan_6', 'quality_morethan_6']\n"
     ]
    },
    {
     "data": {
      "text/plain": [
       "array(['quality_lessthan_5', 'quality_lessthan_6', 'quality_morethan_6'],\n",
       "      dtype=object)"
      ]
     },
     "execution_count": 12,
     "metadata": {},
     "output_type": "execute_result"
    }
   ],
   "source": [
    "float_processer(int_series, \"quality\", cutoffs = 7, print_labels = True).unique()"
   ]
  },
  {
   "cell_type": "code",
   "execution_count": 13,
   "metadata": {},
   "outputs": [
    {
     "data": {
      "text/plain": [
       "array([5, 6, 7, 4, 8, 3], dtype=int64)"
      ]
     },
     "execution_count": 13,
     "metadata": {},
     "output_type": "execute_result"
    }
   ],
   "source": [
    "int_series.unique()"
   ]
  },
  {
   "cell_type": "code",
   "execution_count": 14,
   "metadata": {},
   "outputs": [],
   "source": [
    "def cat_processer(series, title, na_action = ['label', 'return_na'][1], print_labels = False):\n",
    "    '''\n",
    "    SUMMARY: Gives bin labeling to categorical data based off of splits in the data\n",
    "    \n",
    "    INPUTS:\n",
    "    - series: A pandas series object of type float\n",
    "    - title: A title used for the feature of type string\n",
    "    - print_labels: a boolean value to print out the label values before assignment. Useful for debugging.\n",
    "    \n",
    "    OUTPUTS:\n",
    "    - a pandas series object of the bin-labelled data\n",
    "    \n",
    "    NOTES:\n",
    "    - string labels can get long. opt for shorter ones if possible.\n",
    "    - string labels will come out in the format \"title_is_label\"\n",
    "    \n",
    "    '''\n",
    "    \n",
    "    \n",
    "    # find splits in data based on ordering\n",
    "    len_series = series.shape[0]\n",
    "    not_nas = np.where(np.logical_not(pd.isna(series)))\n",
    "    not_na_series = series[not_nas[0]]\n",
    "    unique_vals = not_na_series.unique()\n",
    "    \n",
    "    # label creation\n",
    "    str_labels = [title + \"_is_\" + val for val in unique_vals]\n",
    "    \n",
    "    if print_labels:\n",
    "        print(str_labels)\n",
    "    \n",
    "    output_list = []\n",
    "    # likely can have better parallelization if needed\n",
    "    # populate a list with the appropriate label for the data\n",
    "    for i in range(len_series):\n",
    "        # deal with nas first\n",
    "        if pd.isna(series[i]):\n",
    "            if na_action == \"label\":\n",
    "                output_list.append(title + \"_is_na\")\n",
    "                continue\n",
    "            elif na_action == \"return_na\":\n",
    "                output_list.append(np.nan)\n",
    "                continue\n",
    "        for j in range(unique_vals.shape[0]):\n",
    "            if series[i] == unique_vals[j]:\n",
    "                output_list.append(str_labels[j])\n",
    "                next\n",
    "    \n",
    "    # can debate whether list or series is better later\n",
    "    return pd.Series(output_list)\n"
   ]
  },
  {
   "cell_type": "code",
   "execution_count": 15,
   "metadata": {},
   "outputs": [
    {
     "data": {
      "text/plain": [
       "0       acid_level_is_low\n",
       "1       acid_level_is_med\n",
       "2       acid_level_is_med\n",
       "3       acid_level_is_med\n",
       "4       acid_level_is_low\n",
       "5       acid_level_is_low\n",
       "6       acid_level_is_med\n",
       "7       acid_level_is_med\n",
       "8       acid_level_is_med\n",
       "9       acid_level_is_med\n",
       "10      acid_level_is_med\n",
       "11      acid_level_is_med\n",
       "12      acid_level_is_low\n",
       "13      acid_level_is_med\n",
       "14      acid_level_is_med\n",
       "15      acid_level_is_med\n",
       "16      acid_level_is_med\n",
       "17      acid_level_is_med\n",
       "18      acid_level_is_med\n",
       "19      acid_level_is_med\n",
       "20      acid_level_is_med\n",
       "21      acid_level_is_low\n",
       "22      acid_level_is_med\n",
       "23      acid_level_is_med\n",
       "24      acid_level_is_med\n",
       "25      acid_level_is_med\n",
       "26      acid_level_is_med\n",
       "27      acid_level_is_med\n",
       "28      acid_level_is_med\n",
       "29      acid_level_is_med\n",
       "              ...        \n",
       "1569    acid_level_is_med\n",
       "1570    acid_level_is_med\n",
       "1571    acid_level_is_med\n",
       "1572    acid_level_is_med\n",
       "1573    acid_level_is_low\n",
       "1574    acid_level_is_med\n",
       "1575    acid_level_is_med\n",
       "1576    acid_level_is_med\n",
       "1577    acid_level_is_low\n",
       "1578    acid_level_is_med\n",
       "1579    acid_level_is_low\n",
       "1580    acid_level_is_med\n",
       "1581    acid_level_is_low\n",
       "1582    acid_level_is_low\n",
       "1583    acid_level_is_med\n",
       "1584    acid_level_is_med\n",
       "1585    acid_level_is_med\n",
       "1586    acid_level_is_med\n",
       "1587    acid_level_is_low\n",
       "1588    acid_level_is_med\n",
       "1589    acid_level_is_med\n",
       "1590    acid_level_is_med\n",
       "1591    acid_level_is_low\n",
       "1592    acid_level_is_med\n",
       "1593    acid_level_is_med\n",
       "1594    acid_level_is_med\n",
       "1595    acid_level_is_low\n",
       "1596    acid_level_is_med\n",
       "1597    acid_level_is_low\n",
       "1598    acid_level_is_med\n",
       "Length: 1599, dtype: object"
      ]
     },
     "execution_count": 15,
     "metadata": {},
     "output_type": "execute_result"
    }
   ],
   "source": [
    "cat_processer(categorical_series, \"acid_level\", True)"
   ]
  },
  {
   "cell_type": "code",
   "execution_count": 16,
   "metadata": {},
   "outputs": [
    {
     "data": {
      "text/plain": [
       "0        quality_2_is_bad\n",
       "1        quality_2_is_bad\n",
       "2        quality_2_is_bad\n",
       "3        quality_2_is_bad\n",
       "4        quality_2_is_bad\n",
       "5        quality_2_is_bad\n",
       "6        quality_2_is_bad\n",
       "7       quality_2_is_good\n",
       "8       quality_2_is_good\n",
       "9        quality_2_is_bad\n",
       "10       quality_2_is_bad\n",
       "11       quality_2_is_bad\n",
       "12       quality_2_is_bad\n",
       "13       quality_2_is_bad\n",
       "14       quality_2_is_bad\n",
       "15       quality_2_is_bad\n",
       "16      quality_2_is_good\n",
       "17       quality_2_is_bad\n",
       "18       quality_2_is_bad\n",
       "19       quality_2_is_bad\n",
       "20       quality_2_is_bad\n",
       "21       quality_2_is_bad\n",
       "22       quality_2_is_bad\n",
       "23       quality_2_is_bad\n",
       "24       quality_2_is_bad\n",
       "25       quality_2_is_bad\n",
       "26       quality_2_is_bad\n",
       "27       quality_2_is_bad\n",
       "28       quality_2_is_bad\n",
       "29       quality_2_is_bad\n",
       "              ...        \n",
       "1569     quality_2_is_bad\n",
       "1570     quality_2_is_bad\n",
       "1571     quality_2_is_bad\n",
       "1572     quality_2_is_bad\n",
       "1573     quality_2_is_bad\n",
       "1574     quality_2_is_bad\n",
       "1575     quality_2_is_bad\n",
       "1576     quality_2_is_bad\n",
       "1577     quality_2_is_bad\n",
       "1578     quality_2_is_bad\n",
       "1579     quality_2_is_bad\n",
       "1580     quality_2_is_bad\n",
       "1581     quality_2_is_bad\n",
       "1582     quality_2_is_bad\n",
       "1583     quality_2_is_bad\n",
       "1584    quality_2_is_good\n",
       "1585     quality_2_is_bad\n",
       "1586     quality_2_is_bad\n",
       "1587     quality_2_is_bad\n",
       "1588     quality_2_is_bad\n",
       "1589     quality_2_is_bad\n",
       "1590     quality_2_is_bad\n",
       "1591     quality_2_is_bad\n",
       "1592     quality_2_is_bad\n",
       "1593     quality_2_is_bad\n",
       "1594     quality_2_is_bad\n",
       "1595     quality_2_is_bad\n",
       "1596     quality_2_is_bad\n",
       "1597     quality_2_is_bad\n",
       "1598     quality_2_is_bad\n",
       "Length: 1599, dtype: object"
      ]
     },
     "execution_count": 16,
     "metadata": {},
     "output_type": "execute_result"
    }
   ],
   "source": [
    "cat_processer(boolean_series, \"quality_2\")"
   ]
  },
  {
   "cell_type": "code",
   "execution_count": 17,
   "metadata": {},
   "outputs": [],
   "source": [
    "nan_series_float = pd.Series([1, 4.2, np.nan, 5, 12, 1, 1.2, 7, np.nan])"
   ]
  },
  {
   "cell_type": "code",
   "execution_count": 18,
   "metadata": {},
   "outputs": [
    {
     "name": "stdout",
     "output_type": "stream",
     "text": [
      "['tester_lessthan_1.2', 'tester_lessthan_5.0', 'tester_lessthan_12.0', 'tester_morethan_12.0']\n"
     ]
    },
    {
     "data": {
      "text/plain": [
       "0     tester_lessthan_1.2\n",
       "1     tester_lessthan_5.0\n",
       "2            tester_is_na\n",
       "3     tester_lessthan_5.0\n",
       "4    tester_lessthan_12.0\n",
       "5     tester_lessthan_1.2\n",
       "6     tester_lessthan_1.2\n",
       "7    tester_lessthan_12.0\n",
       "8            tester_is_na\n",
       "dtype: object"
      ]
     },
     "execution_count": 18,
     "metadata": {},
     "output_type": "execute_result"
    }
   ],
   "source": [
    "float_processer(nan_series_float, \"tester\", cutoffs = 4, print_labels = True, na_action = 'label')"
   ]
  },
  {
   "cell_type": "code",
   "execution_count": 19,
   "metadata": {},
   "outputs": [
    {
     "data": {
      "text/plain": [
       "0       tester_no\n",
       "1      tester_yes\n",
       "2    tester_is_na\n",
       "3      tester_yes\n",
       "4       tester_no\n",
       "5      tester_yes\n",
       "6      tester_yes\n",
       "7    tester_is_na\n",
       "8       tester_no\n",
       "9    tester_is_na\n",
       "dtype: object"
      ]
     },
     "execution_count": 19,
     "metadata": {},
     "output_type": "execute_result"
    }
   ],
   "source": [
    "nan_series_bool = pd.Series([0,1,np.nan, 1, 0, 1, 1, np.nan, 0, np.nan])\n",
    "boolean_processer(nan_series_bool, title = \"tester\", na_action = 'label')"
   ]
  },
  {
   "cell_type": "code",
   "execution_count": 20,
   "metadata": {},
   "outputs": [
    {
     "data": {
      "text/plain": [
       "0    tester_is_aaa\n",
       "1     tester_is_na\n",
       "2    tester_is_bbb\n",
       "3     tester_is_na\n",
       "4    tester_is_aaa\n",
       "5    tester_is_ccc\n",
       "dtype: object"
      ]
     },
     "execution_count": 20,
     "metadata": {},
     "output_type": "execute_result"
    }
   ],
   "source": [
    "nan_series_strings = pd.Series(['aaa', np.nan, 'bbb', np.nan, 'aaa', 'ccc'])\n",
    "cat_processer(nan_series_strings, title = 'tester', na_action = 'label')"
   ]
  },
  {
   "cell_type": "code",
   "execution_count": 21,
   "metadata": {},
   "outputs": [
    {
     "name": "stdout",
     "output_type": "stream",
     "text": [
      "['tester_lessthan_5', 'tester_lessthan_6', 'tester_lessthan_6', 'tester_morethan_6']\n"
     ]
    },
    {
     "data": {
      "text/plain": [
       "0       tester_lessthan_5\n",
       "1       tester_lessthan_5\n",
       "2       tester_lessthan_5\n",
       "3       tester_lessthan_6\n",
       "4       tester_lessthan_5\n",
       "5       tester_lessthan_5\n",
       "6       tester_lessthan_5\n",
       "7       tester_morethan_6\n",
       "8       tester_morethan_6\n",
       "9       tester_lessthan_5\n",
       "10      tester_lessthan_5\n",
       "11      tester_lessthan_5\n",
       "12      tester_lessthan_5\n",
       "13      tester_lessthan_5\n",
       "14      tester_lessthan_5\n",
       "15      tester_lessthan_5\n",
       "16      tester_morethan_6\n",
       "17      tester_lessthan_5\n",
       "18      tester_lessthan_5\n",
       "19      tester_lessthan_6\n",
       "20      tester_lessthan_6\n",
       "21      tester_lessthan_5\n",
       "22      tester_lessthan_5\n",
       "23      tester_lessthan_5\n",
       "24      tester_lessthan_6\n",
       "25      tester_lessthan_5\n",
       "26      tester_lessthan_5\n",
       "27      tester_lessthan_5\n",
       "28      tester_lessthan_5\n",
       "29      tester_lessthan_6\n",
       "              ...        \n",
       "1569    tester_lessthan_6\n",
       "1570    tester_lessthan_6\n",
       "1571    tester_lessthan_6\n",
       "1572    tester_lessthan_5\n",
       "1573    tester_lessthan_6\n",
       "1574    tester_lessthan_6\n",
       "1575    tester_lessthan_6\n",
       "1576    tester_lessthan_6\n",
       "1577    tester_lessthan_6\n",
       "1578    tester_lessthan_6\n",
       "1579    tester_lessthan_5\n",
       "1580    tester_lessthan_6\n",
       "1581    tester_lessthan_5\n",
       "1582    tester_lessthan_5\n",
       "1583    tester_lessthan_5\n",
       "1584    tester_morethan_6\n",
       "1585    tester_lessthan_6\n",
       "1586    tester_lessthan_6\n",
       "1587    tester_lessthan_6\n",
       "1588    tester_lessthan_6\n",
       "1589    tester_lessthan_5\n",
       "1590    tester_lessthan_6\n",
       "1591    tester_lessthan_6\n",
       "1592    tester_lessthan_6\n",
       "1593    tester_lessthan_6\n",
       "1594    tester_lessthan_5\n",
       "1595    tester_lessthan_6\n",
       "1596    tester_lessthan_6\n",
       "1597    tester_lessthan_5\n",
       "1598    tester_lessthan_6\n",
       "Length: 1599, dtype: object"
      ]
     },
     "execution_count": 21,
     "metadata": {},
     "output_type": "execute_result"
    }
   ],
   "source": [
    "float_processer(int_series, title = \"tester\", print_labels = True)"
   ]
  },
  {
   "cell_type": "code",
   "execution_count": 22,
   "metadata": {},
   "outputs": [
    {
     "data": {
      "text/plain": [
       "fixed acidity           float64\n",
       "volatile acidity        float64\n",
       "citric acid             float64\n",
       "residual sugar          float64\n",
       "chlorides               float64\n",
       "free sulfur dioxide     float64\n",
       "total sulfur dioxide    float64\n",
       "density                 float64\n",
       "pH                      float64\n",
       "sulphates               float64\n",
       "alcohol                 float64\n",
       "quality                   int64\n",
       "high_alc                  int64\n",
       "acid_level               object\n",
       "quality_2                object\n",
       "dtype: object"
      ]
     },
     "execution_count": 22,
     "metadata": {},
     "output_type": "execute_result"
    }
   ],
   "source": [
    "df.dtypes"
   ]
  },
  {
   "cell_type": "code",
   "execution_count": 23,
   "metadata": {},
   "outputs": [
    {
     "data": {
      "text/plain": [
       "Index(['fixed acidity', 'volatile acidity', 'citric acid', 'residual sugar',\n",
       "       'chlorides', 'free sulfur dioxide', 'total sulfur dioxide', 'density',\n",
       "       'pH', 'sulphates', 'alcohol', 'quality', 'high_alc', 'acid_level',\n",
       "       'quality_2'],\n",
       "      dtype='object')"
      ]
     },
     "execution_count": 23,
     "metadata": {},
     "output_type": "execute_result"
    }
   ],
   "source": [
    "df.dtypes.index"
   ]
  },
  {
   "cell_type": "code",
   "execution_count": 24,
   "metadata": {},
   "outputs": [],
   "source": [
    "# function to take entire dataframe and process into listed strings\n",
    "# todo: customizable for non-defaults\n",
    "def list_featurize_df(df, \\\n",
    "                      index_list = [i for i in range(df.shape[0])]):\n",
    "    # loop thru series\n",
    "    df_out = pd.DataFrame()\n",
    "    for column in df.columns:\n",
    "        out_series = list_featurize_series(df[column], title = column)\n",
    "        df_out[column] = out_series\n",
    "\n",
    "    store =[]\n",
    "    # upon completion, go thru and make a key-value store\n",
    "    for i in range(df.shape[0]):\n",
    "        writing_vals = df_out.loc[i].values[~pd.isna(df_out.loc[i].values)]\n",
    "        store.append([val for val in writing_vals])\n",
    "    \n",
    "    return(store)\n",
    "    # then iterate thru and make row-wise key value store\n",
    "    "
   ]
  },
  {
   "cell_type": "code",
   "execution_count": 25,
   "metadata": {},
   "outputs": [],
   "source": [
    "# function to take individual series and impose the right function on it\n",
    "def list_featurize_series(series,\\\n",
    "                          title, \\\n",
    "                          cutoffs = 4, \\\n",
    "                          which_yes = 1, \\\n",
    "                          na_action = ['label', 'return_na'][1], \\\n",
    "                          print_labels = False):\n",
    "    # first figure out what type the series is\n",
    "    typeof = series.dtypes\n",
    "    \n",
    "    # categorical\n",
    "    if typeof == 'O':\n",
    "        ret_series = cat_processer(series, \\\n",
    "                                   title, \\\n",
    "                                   na_action, \\\n",
    "                                   print_labels)    \n",
    "\n",
    "    # only boolean\n",
    "    elif np.array_equal(series.unique()[~pd.isna(series.unique())],\\\n",
    "                        np.array([0,1])):\n",
    "        \n",
    "        ret_series = boolean_processer(series, \\\n",
    "                                       title, \\\n",
    "                                       which_yes, \\\n",
    "                                       na_action, \\\n",
    "                                       print_labels)\n",
    "    \n",
    "    # floats/ints\n",
    "    else:\n",
    "        ret_series = float_processer(series, \\\n",
    "                    title, \\\n",
    "                    cutoffs, \\\n",
    "                    na_action, \\\n",
    "                    print_labels)\n",
    "    \n",
    "    return ret_series"
   ]
  },
  {
   "cell_type": "code",
   "execution_count": 26,
   "metadata": {},
   "outputs": [
    {
     "data": {
      "text/plain": [
       "dtype('O')"
      ]
     },
     "execution_count": 26,
     "metadata": {},
     "output_type": "execute_result"
    }
   ],
   "source": [
    "boolean_series.dtypes"
   ]
  },
  {
   "cell_type": "code",
   "execution_count": 27,
   "metadata": {},
   "outputs": [
    {
     "data": {
      "text/plain": [
       "array([0, 1], dtype=int64)"
      ]
     },
     "execution_count": 27,
     "metadata": {},
     "output_type": "execute_result"
    }
   ],
   "source": [
    "boolean_series2.unique()"
   ]
  },
  {
   "cell_type": "code",
   "execution_count": 28,
   "metadata": {},
   "outputs": [
    {
     "data": {
      "text/plain": [
       "True"
      ]
     },
     "execution_count": 28,
     "metadata": {},
     "output_type": "execute_result"
    }
   ],
   "source": [
    "np.array_equal(nan_series_bool.unique()[~np.isnan(nan_series_bool.unique())], np.array([0,1]))"
   ]
  },
  {
   "cell_type": "code",
   "execution_count": 29,
   "metadata": {},
   "outputs": [
    {
     "data": {
      "text/plain": [
       "array([ 0.,  1., nan])"
      ]
     },
     "execution_count": 29,
     "metadata": {},
     "output_type": "execute_result"
    }
   ],
   "source": [
    "np.array([0,1,np.nan])"
   ]
  },
  {
   "cell_type": "code",
   "execution_count": 30,
   "metadata": {},
   "outputs": [
    {
     "data": {
      "text/plain": [
       "array([ 0.,  1., nan])"
      ]
     },
     "execution_count": 30,
     "metadata": {},
     "output_type": "execute_result"
    }
   ],
   "source": [
    "nan_series_bool.unique()"
   ]
  },
  {
   "cell_type": "code",
   "execution_count": 31,
   "metadata": {},
   "outputs": [
    {
     "data": {
      "text/plain": [
       "0    testint_is_aaa\n",
       "1               NaN\n",
       "2    testint_is_bbb\n",
       "3               NaN\n",
       "4    testint_is_aaa\n",
       "5    testint_is_ccc\n",
       "dtype: object"
      ]
     },
     "execution_count": 31,
     "metadata": {},
     "output_type": "execute_result"
    }
   ],
   "source": [
    "list_featurize_series(nan_series_strings, title = \"testint\")"
   ]
  },
  {
   "cell_type": "code",
   "execution_count": 32,
   "metadata": {},
   "outputs": [],
   "source": [
    "df2 = pd.DataFrame()"
   ]
  },
  {
   "cell_type": "code",
   "execution_count": 33,
   "metadata": {},
   "outputs": [],
   "source": [
    "df2[\"col1\"] = nan_series_bool"
   ]
  },
  {
   "cell_type": "code",
   "execution_count": 34,
   "metadata": {},
   "outputs": [
    {
     "data": {
      "text/html": [
       "<div>\n",
       "<style scoped>\n",
       "    .dataframe tbody tr th:only-of-type {\n",
       "        vertical-align: middle;\n",
       "    }\n",
       "\n",
       "    .dataframe tbody tr th {\n",
       "        vertical-align: top;\n",
       "    }\n",
       "\n",
       "    .dataframe thead th {\n",
       "        text-align: right;\n",
       "    }\n",
       "</style>\n",
       "<table border=\"1\" class=\"dataframe\">\n",
       "  <thead>\n",
       "    <tr style=\"text-align: right;\">\n",
       "      <th></th>\n",
       "      <th>col1</th>\n",
       "    </tr>\n",
       "  </thead>\n",
       "  <tbody>\n",
       "    <tr>\n",
       "      <th>0</th>\n",
       "      <td>0.0</td>\n",
       "    </tr>\n",
       "    <tr>\n",
       "      <th>1</th>\n",
       "      <td>1.0</td>\n",
       "    </tr>\n",
       "    <tr>\n",
       "      <th>2</th>\n",
       "      <td>NaN</td>\n",
       "    </tr>\n",
       "    <tr>\n",
       "      <th>3</th>\n",
       "      <td>1.0</td>\n",
       "    </tr>\n",
       "    <tr>\n",
       "      <th>4</th>\n",
       "      <td>0.0</td>\n",
       "    </tr>\n",
       "    <tr>\n",
       "      <th>5</th>\n",
       "      <td>1.0</td>\n",
       "    </tr>\n",
       "    <tr>\n",
       "      <th>6</th>\n",
       "      <td>1.0</td>\n",
       "    </tr>\n",
       "    <tr>\n",
       "      <th>7</th>\n",
       "      <td>NaN</td>\n",
       "    </tr>\n",
       "    <tr>\n",
       "      <th>8</th>\n",
       "      <td>0.0</td>\n",
       "    </tr>\n",
       "    <tr>\n",
       "      <th>9</th>\n",
       "      <td>NaN</td>\n",
       "    </tr>\n",
       "  </tbody>\n",
       "</table>\n",
       "</div>"
      ],
      "text/plain": [
       "   col1\n",
       "0   0.0\n",
       "1   1.0\n",
       "2   NaN\n",
       "3   1.0\n",
       "4   0.0\n",
       "5   1.0\n",
       "6   1.0\n",
       "7   NaN\n",
       "8   0.0\n",
       "9   NaN"
      ]
     },
     "execution_count": 34,
     "metadata": {},
     "output_type": "execute_result"
    }
   ],
   "source": [
    "df2"
   ]
  },
  {
   "cell_type": "code",
   "execution_count": 35,
   "metadata": {},
   "outputs": [],
   "source": [
    "df2[\"col3\"] = df2['col1'] + 1"
   ]
  },
  {
   "cell_type": "code",
   "execution_count": 36,
   "metadata": {},
   "outputs": [
    {
     "data": {
      "text/html": [
       "<div>\n",
       "<style scoped>\n",
       "    .dataframe tbody tr th:only-of-type {\n",
       "        vertical-align: middle;\n",
       "    }\n",
       "\n",
       "    .dataframe tbody tr th {\n",
       "        vertical-align: top;\n",
       "    }\n",
       "\n",
       "    .dataframe thead th {\n",
       "        text-align: right;\n",
       "    }\n",
       "</style>\n",
       "<table border=\"1\" class=\"dataframe\">\n",
       "  <thead>\n",
       "    <tr style=\"text-align: right;\">\n",
       "      <th></th>\n",
       "      <th>col1</th>\n",
       "      <th>col3</th>\n",
       "    </tr>\n",
       "  </thead>\n",
       "  <tbody>\n",
       "    <tr>\n",
       "      <th>0</th>\n",
       "      <td>0.0</td>\n",
       "      <td>1.0</td>\n",
       "    </tr>\n",
       "    <tr>\n",
       "      <th>1</th>\n",
       "      <td>1.0</td>\n",
       "      <td>2.0</td>\n",
       "    </tr>\n",
       "    <tr>\n",
       "      <th>2</th>\n",
       "      <td>NaN</td>\n",
       "      <td>NaN</td>\n",
       "    </tr>\n",
       "    <tr>\n",
       "      <th>3</th>\n",
       "      <td>1.0</td>\n",
       "      <td>2.0</td>\n",
       "    </tr>\n",
       "    <tr>\n",
       "      <th>4</th>\n",
       "      <td>0.0</td>\n",
       "      <td>1.0</td>\n",
       "    </tr>\n",
       "    <tr>\n",
       "      <th>5</th>\n",
       "      <td>1.0</td>\n",
       "      <td>2.0</td>\n",
       "    </tr>\n",
       "    <tr>\n",
       "      <th>6</th>\n",
       "      <td>1.0</td>\n",
       "      <td>2.0</td>\n",
       "    </tr>\n",
       "    <tr>\n",
       "      <th>7</th>\n",
       "      <td>NaN</td>\n",
       "      <td>NaN</td>\n",
       "    </tr>\n",
       "    <tr>\n",
       "      <th>8</th>\n",
       "      <td>0.0</td>\n",
       "      <td>1.0</td>\n",
       "    </tr>\n",
       "    <tr>\n",
       "      <th>9</th>\n",
       "      <td>NaN</td>\n",
       "      <td>NaN</td>\n",
       "    </tr>\n",
       "  </tbody>\n",
       "</table>\n",
       "</div>"
      ],
      "text/plain": [
       "   col1  col3\n",
       "0   0.0   1.0\n",
       "1   1.0   2.0\n",
       "2   NaN   NaN\n",
       "3   1.0   2.0\n",
       "4   0.0   1.0\n",
       "5   1.0   2.0\n",
       "6   1.0   2.0\n",
       "7   NaN   NaN\n",
       "8   0.0   1.0\n",
       "9   NaN   NaN"
      ]
     },
     "execution_count": 36,
     "metadata": {},
     "output_type": "execute_result"
    }
   ],
   "source": [
    "df2"
   ]
  },
  {
   "cell_type": "code",
   "execution_count": 37,
   "metadata": {},
   "outputs": [
    {
     "data": {
      "text/plain": [
       "[['col1_no', 'col3_lessthan_1.0'],\n",
       " ['col1_yes', 'col3_lessthan_2.0'],\n",
       " [],\n",
       " ['col1_yes', 'col3_lessthan_2.0'],\n",
       " ['col1_no', 'col3_lessthan_1.0'],\n",
       " ['col1_yes', 'col3_lessthan_2.0'],\n",
       " ['col1_yes', 'col3_lessthan_2.0'],\n",
       " [],\n",
       " ['col1_no', 'col3_lessthan_1.0'],\n",
       " []]"
      ]
     },
     "execution_count": 37,
     "metadata": {},
     "output_type": "execute_result"
    }
   ],
   "source": [
    "list_featurize_df(df2)"
   ]
  },
  {
   "cell_type": "code",
   "execution_count": 38,
   "metadata": {},
   "outputs": [
    {
     "data": {
      "text/plain": [
       "['fixed acidity_lessthan_7.9',\n",
       " 'volatile acidity_morethan_0.64',\n",
       " 'citric acid_lessthan_0.09',\n",
       " 'residual sugar_lessthan_1.9',\n",
       " 'chlorides_lessthan_0.079',\n",
       " 'free sulfur dioxide_lessthan_14.0',\n",
       " 'total sulfur dioxide_lessthan_38.0',\n",
       " 'density_lessthan_0.99785',\n",
       " 'pH_morethan_3.4',\n",
       " 'sulphates_lessthan_0.62',\n",
       " 'alcohol_lessthan_9.5',\n",
       " 'quality_lessthan_5',\n",
       " 'high_alc_no',\n",
       " 'acid_level_is_low',\n",
       " 'quality_2_is_bad']"
      ]
     },
     "execution_count": 38,
     "metadata": {},
     "output_type": "execute_result"
    }
   ],
   "source": [
    "list_featurize_df(df)[0]"
   ]
  },
  {
   "cell_type": "code",
   "execution_count": 39,
   "metadata": {},
   "outputs": [],
   "source": [
    "# attemt at mlxtend code\n",
    "from mlxtend.preprocessing import TransactionEncoder\n",
    "from mlxtend.frequent_patterns import apriori"
   ]
  },
  {
   "cell_type": "code",
   "execution_count": 41,
   "metadata": {
    "scrolled": true
   },
   "outputs": [
    {
     "data": {
      "text/html": [
       "<div>\n",
       "<style scoped>\n",
       "    .dataframe tbody tr th:only-of-type {\n",
       "        vertical-align: middle;\n",
       "    }\n",
       "\n",
       "    .dataframe tbody tr th {\n",
       "        vertical-align: top;\n",
       "    }\n",
       "\n",
       "    .dataframe thead th {\n",
       "        text-align: right;\n",
       "    }\n",
       "</style>\n",
       "<table border=\"1\" class=\"dataframe\">\n",
       "  <thead>\n",
       "    <tr style=\"text-align: right;\">\n",
       "      <th></th>\n",
       "      <th>support</th>\n",
       "      <th>itemsets</th>\n",
       "    </tr>\n",
       "  </thead>\n",
       "  <tbody>\n",
       "    <tr>\n",
       "      <th>0</th>\n",
       "      <td>0.873046</td>\n",
       "      <td>(acid_level_is_med)</td>\n",
       "    </tr>\n",
       "    <tr>\n",
       "      <th>1</th>\n",
       "      <td>0.467167</td>\n",
       "      <td>(high_alc_no)</td>\n",
       "    </tr>\n",
       "    <tr>\n",
       "      <th>2</th>\n",
       "      <td>0.532833</td>\n",
       "      <td>(high_alc_yes)</td>\n",
       "    </tr>\n",
       "    <tr>\n",
       "      <th>3</th>\n",
       "      <td>0.864290</td>\n",
       "      <td>(quality_2_is_bad)</td>\n",
       "    </tr>\n",
       "    <tr>\n",
       "      <th>4</th>\n",
       "      <td>0.465291</td>\n",
       "      <td>(quality_lessthan_5)</td>\n",
       "    </tr>\n",
       "    <tr>\n",
       "      <th>5</th>\n",
       "      <td>0.452783</td>\n",
       "      <td>(acid_level_is_med, high_alc_yes)</td>\n",
       "    </tr>\n",
       "    <tr>\n",
       "      <th>6</th>\n",
       "      <td>0.753596</td>\n",
       "      <td>(acid_level_is_med, quality_2_is_bad)</td>\n",
       "    </tr>\n",
       "    <tr>\n",
       "      <th>7</th>\n",
       "      <td>0.454034</td>\n",
       "      <td>(high_alc_no, quality_2_is_bad)</td>\n",
       "    </tr>\n",
       "    <tr>\n",
       "      <th>8</th>\n",
       "      <td>0.465291</td>\n",
       "      <td>(quality_lessthan_5, quality_2_is_bad)</td>\n",
       "    </tr>\n",
       "  </tbody>\n",
       "</table>\n",
       "</div>"
      ],
      "text/plain": [
       "    support                                itemsets\n",
       "0  0.873046                     (acid_level_is_med)\n",
       "1  0.467167                           (high_alc_no)\n",
       "2  0.532833                          (high_alc_yes)\n",
       "3  0.864290                      (quality_2_is_bad)\n",
       "4  0.465291                    (quality_lessthan_5)\n",
       "5  0.452783       (acid_level_is_med, high_alc_yes)\n",
       "6  0.753596   (acid_level_is_med, quality_2_is_bad)\n",
       "7  0.454034         (high_alc_no, quality_2_is_bad)\n",
       "8  0.465291  (quality_lessthan_5, quality_2_is_bad)"
      ]
     },
     "execution_count": 41,
     "metadata": {},
     "output_type": "execute_result"
    }
   ],
   "source": [
    "dataset = list_featurize_df(df)\n",
    "\n",
    "te = TransactionEncoder()\n",
    "te_ary = te.fit(dataset).transform(dataset)\n",
    "df_for_apr = pd.DataFrame(te_ary, columns=te.columns_)\n",
    "frequent_itemsets = apriori(df_for_apr, min_support=0.45, use_colnames=True)\n",
    "\n",
    "frequent_itemsets"
   ]
  },
  {
   "cell_type": "code",
   "execution_count": 42,
   "metadata": {},
   "outputs": [
    {
     "data": {
      "text/html": [
       "<div>\n",
       "<style scoped>\n",
       "    .dataframe tbody tr th:only-of-type {\n",
       "        vertical-align: middle;\n",
       "    }\n",
       "\n",
       "    .dataframe tbody tr th {\n",
       "        vertical-align: top;\n",
       "    }\n",
       "\n",
       "    .dataframe thead th {\n",
       "        text-align: right;\n",
       "    }\n",
       "</style>\n",
       "<table border=\"1\" class=\"dataframe\">\n",
       "  <thead>\n",
       "    <tr style=\"text-align: right;\">\n",
       "      <th></th>\n",
       "      <th>antecedents</th>\n",
       "      <th>consequents</th>\n",
       "      <th>antecedent support</th>\n",
       "      <th>consequent support</th>\n",
       "      <th>support</th>\n",
       "      <th>confidence</th>\n",
       "      <th>lift</th>\n",
       "      <th>leverage</th>\n",
       "      <th>conviction</th>\n",
       "    </tr>\n",
       "  </thead>\n",
       "  <tbody>\n",
       "    <tr>\n",
       "      <th>0</th>\n",
       "      <td>(high_alc_yes)</td>\n",
       "      <td>(acid_level_is_med)</td>\n",
       "      <td>0.532833</td>\n",
       "      <td>0.873046</td>\n",
       "      <td>0.452783</td>\n",
       "      <td>0.849765</td>\n",
       "      <td>0.973334</td>\n",
       "      <td>-0.012405</td>\n",
       "      <td>0.845040</td>\n",
       "    </tr>\n",
       "    <tr>\n",
       "      <th>1</th>\n",
       "      <td>(acid_level_is_med)</td>\n",
       "      <td>(quality_2_is_bad)</td>\n",
       "      <td>0.873046</td>\n",
       "      <td>0.864290</td>\n",
       "      <td>0.753596</td>\n",
       "      <td>0.863181</td>\n",
       "      <td>0.998716</td>\n",
       "      <td>-0.000969</td>\n",
       "      <td>0.991890</td>\n",
       "    </tr>\n",
       "    <tr>\n",
       "      <th>2</th>\n",
       "      <td>(quality_2_is_bad)</td>\n",
       "      <td>(acid_level_is_med)</td>\n",
       "      <td>0.864290</td>\n",
       "      <td>0.873046</td>\n",
       "      <td>0.753596</td>\n",
       "      <td>0.871925</td>\n",
       "      <td>0.998716</td>\n",
       "      <td>-0.000969</td>\n",
       "      <td>0.991248</td>\n",
       "    </tr>\n",
       "    <tr>\n",
       "      <th>3</th>\n",
       "      <td>(high_alc_no)</td>\n",
       "      <td>(quality_2_is_bad)</td>\n",
       "      <td>0.467167</td>\n",
       "      <td>0.864290</td>\n",
       "      <td>0.454034</td>\n",
       "      <td>0.971888</td>\n",
       "      <td>1.124492</td>\n",
       "      <td>0.050266</td>\n",
       "      <td>4.827392</td>\n",
       "    </tr>\n",
       "    <tr>\n",
       "      <th>4</th>\n",
       "      <td>(quality_lessthan_5)</td>\n",
       "      <td>(quality_2_is_bad)</td>\n",
       "      <td>0.465291</td>\n",
       "      <td>0.864290</td>\n",
       "      <td>0.465291</td>\n",
       "      <td>1.000000</td>\n",
       "      <td>1.157019</td>\n",
       "      <td>0.063145</td>\n",
       "      <td>inf</td>\n",
       "    </tr>\n",
       "  </tbody>\n",
       "</table>\n",
       "</div>"
      ],
      "text/plain": [
       "            antecedents          consequents  antecedent support  \\\n",
       "0        (high_alc_yes)  (acid_level_is_med)            0.532833   \n",
       "1   (acid_level_is_med)   (quality_2_is_bad)            0.873046   \n",
       "2    (quality_2_is_bad)  (acid_level_is_med)            0.864290   \n",
       "3         (high_alc_no)   (quality_2_is_bad)            0.467167   \n",
       "4  (quality_lessthan_5)   (quality_2_is_bad)            0.465291   \n",
       "\n",
       "   consequent support   support  confidence      lift  leverage  conviction  \n",
       "0            0.873046  0.452783    0.849765  0.973334 -0.012405    0.845040  \n",
       "1            0.864290  0.753596    0.863181  0.998716 -0.000969    0.991890  \n",
       "2            0.873046  0.753596    0.871925  0.998716 -0.000969    0.991248  \n",
       "3            0.864290  0.454034    0.971888  1.124492  0.050266    4.827392  \n",
       "4            0.864290  0.465291    1.000000  1.157019  0.063145         inf  "
      ]
     },
     "execution_count": 42,
     "metadata": {},
     "output_type": "execute_result"
    }
   ],
   "source": [
    "from mlxtend.frequent_patterns import association_rules\n",
    "\n",
    "association_rules(frequent_itemsets, metric=\"confidence\", min_threshold=0.7)"
   ]
  },
  {
   "cell_type": "code",
   "execution_count": null,
   "metadata": {},
   "outputs": [],
   "source": []
  },
  {
   "cell_type": "code",
   "execution_count": null,
   "metadata": {},
   "outputs": [],
   "source": []
  }
 ],
 "metadata": {
  "kernelspec": {
   "display_name": "Python 3",
   "language": "python",
   "name": "python3"
  },
  "language_info": {
   "codemirror_mode": {
    "name": "ipython",
    "version": 3
   },
   "file_extension": ".py",
   "mimetype": "text/x-python",
   "name": "python",
   "nbconvert_exporter": "python",
   "pygments_lexer": "ipython3",
   "version": "3.7.3"
  }
 },
 "nbformat": 4,
 "nbformat_minor": 2
}
